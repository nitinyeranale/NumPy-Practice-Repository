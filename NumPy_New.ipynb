{
 "cells": [
  {
   "cell_type": "markdown",
   "id": "f8e55228-2ece-495d-a30e-b994bb0c4bba",
   "metadata": {},
   "source": [
    "## NumPy Tutorial"
   ]
  },
  {
   "cell_type": "code",
   "execution_count": 3,
   "id": "9e4afd48-0f9d-431d-8f1a-7d693a0fd6df",
   "metadata": {},
   "outputs": [],
   "source": [
    "import numpy as np"
   ]
  },
  {
   "cell_type": "code",
   "execution_count": 68,
   "id": "c8c28b6f-f178-4958-b3e2-7960e34c43d8",
   "metadata": {},
   "outputs": [],
   "source": [
    "a=np.array([3,4,78,54])  # 1 Dimentional Array ------"
   ]
  },
  {
   "cell_type": "code",
   "execution_count": 3,
   "id": "81f98bbf-5d33-4038-9fc5-c73fe71189dd",
   "metadata": {},
   "outputs": [
    {
     "data": {
      "text/plain": [
       "array([ 3,  4, 78, 54], dtype=int16)"
      ]
     },
     "execution_count": 3,
     "metadata": {},
     "output_type": "execute_result"
    }
   ],
   "source": [
    "a"
   ]
  },
  {
   "cell_type": "code",
   "execution_count": 4,
   "id": "df2b833b-215f-47b4-aecd-bec1012424ac",
   "metadata": {},
   "outputs": [
    {
     "data": {
      "text/plain": [
       "4"
      ]
     },
     "execution_count": 4,
     "metadata": {},
     "output_type": "execute_result"
    }
   ],
   "source": [
    "a[1]               # selecting array element---------"
   ]
  },
  {
   "cell_type": "code",
   "execution_count": 58,
   "id": "b446e9f5-98b3-4923-8af6-ad0869fc7578",
   "metadata": {},
   "outputs": [],
   "source": [
    "b=np.array([[3,5,73],[1,3,55]])                     # 2 Dimentional Array--------\n",
    "b1=np.array([[2,7,88],[34,677,56],[98,7,66]]) "
   ]
  },
  {
   "cell_type": "code",
   "execution_count": 60,
   "id": "2afa0c3b-3b38-4d9c-95b9-793a9e9af869",
   "metadata": {},
   "outputs": [
    {
     "data": {
      "text/plain": [
       "(array([[ 3,  5, 73],\n",
       "        [ 1,  3, 55]]),\n",
       " array([[  2,   7,  88],\n",
       "        [ 34, 677,  56],\n",
       "        [ 98,   7,  66]]))"
      ]
     },
     "execution_count": 60,
     "metadata": {},
     "output_type": "execute_result"
    }
   ],
   "source": [
    "b, b1"
   ]
  },
  {
   "cell_type": "code",
   "execution_count": 36,
   "id": "eca8a75a-4367-4a03-8471-b884b507e5ab",
   "metadata": {},
   "outputs": [
    {
     "data": {
      "text/plain": [
       "(4,)"
      ]
     },
     "execution_count": 36,
     "metadata": {},
     "output_type": "execute_result"
    }
   ],
   "source": [
    "a.shape"
   ]
  },
  {
   "cell_type": "code",
   "execution_count": 64,
   "id": "2a867b1e-58a7-4e3d-b05e-d4a3fe60a01c",
   "metadata": {},
   "outputs": [
    {
     "data": {
      "text/plain": [
       "((2, 3), (3, 3))"
      ]
     },
     "execution_count": 64,
     "metadata": {},
     "output_type": "execute_result"
    }
   ],
   "source": [
    "b.shape  , b1.shape"
   ]
  },
  {
   "cell_type": "code",
   "execution_count": 76,
   "id": "cffff3af-f3a2-423a-b166-fb0ca0794a66",
   "metadata": {},
   "outputs": [
    {
     "data": {
      "text/plain": [
       "dtype('int32')"
      ]
     },
     "execution_count": 76,
     "metadata": {},
     "output_type": "execute_result"
    }
   ],
   "source": [
    "a.dtype"
   ]
  },
  {
   "cell_type": "markdown",
   "id": "ddb6bc39-3460-4cab-902b-cd2627f9cdf5",
   "metadata": {},
   "source": [
    "## There are 6 general mechanisms for creating arrays:---------"
   ]
  },
  {
   "cell_type": "markdown",
   "id": "3bb87151-40ef-446c-82e3-01fc291f2549",
   "metadata": {},
   "source": [
    "####  1.  Conversion from other Python structures (i.e. lists and tuples)-----------"
   ]
  },
  {
   "cell_type": "code",
   "execution_count": 24,
   "id": "0efa9de3-0df3-46f6-9150-911816a15615",
   "metadata": {},
   "outputs": [
    {
     "data": {
      "text/plain": [
       "([1, 2, 4], [3, 66, 8], [33, 88, 66])"
      ]
     },
     "execution_count": 24,
     "metadata": {},
     "output_type": "execute_result"
    }
   ],
   "source": [
    "my_list=[1,2,4],[3,66,8],[33,88,66]\n",
    "my_list"
   ]
  },
  {
   "cell_type": "code",
   "execution_count": 30,
   "id": "c7c85805-d04b-451d-936f-a86f5cf3188b",
   "metadata": {},
   "outputs": [],
   "source": [
    "listarray=np.array(my_list)"
   ]
  },
  {
   "cell_type": "code",
   "execution_count": 32,
   "id": "4e15bf88-35b4-42f0-9be1-4c828f48be6c",
   "metadata": {},
   "outputs": [
    {
     "data": {
      "text/plain": [
       "array([[ 1,  2,  4],\n",
       "       [ 3, 66,  8],\n",
       "       [33, 88, 66]])"
      ]
     },
     "execution_count": 32,
     "metadata": {},
     "output_type": "execute_result"
    }
   ],
   "source": [
    "listarray"
   ]
  },
  {
   "cell_type": "code",
   "execution_count": 34,
   "id": "7b99fafb-31b3-4551-a7c5-b869fc68c816",
   "metadata": {},
   "outputs": [
    {
     "data": {
      "text/plain": [
       "(3, 3)"
      ]
     },
     "execution_count": 34,
     "metadata": {},
     "output_type": "execute_result"
    }
   ],
   "source": [
    "listarray.shape"
   ]
  },
  {
   "cell_type": "code",
   "execution_count": 36,
   "id": "1a7aacdd-048a-45cc-b900-0ac4425de17d",
   "metadata": {},
   "outputs": [
    {
     "data": {
      "text/plain": [
       "dtype('int32')"
      ]
     },
     "execution_count": 36,
     "metadata": {},
     "output_type": "execute_result"
    }
   ],
   "source": [
    "listarray.dtype"
   ]
  },
  {
   "cell_type": "code",
   "execution_count": 38,
   "id": "5c65bfec-05aa-440d-91d7-8486fa89923c",
   "metadata": {},
   "outputs": [
    {
     "data": {
      "text/plain": [
       "9"
      ]
     },
     "execution_count": 38,
     "metadata": {},
     "output_type": "execute_result"
    }
   ],
   "source": [
    "listarray.size"
   ]
  },
  {
   "cell_type": "markdown",
   "id": "19c7b71c-f330-4368-b7a9-f5543ca48c1d",
   "metadata": {},
   "source": [
    "#### 2.  Intrinsic NumPy array creation functions (e.g. arange, ones, zeros, etc.)"
   ]
  },
  {
   "cell_type": "markdown",
   "id": "0a204675-6fd5-4eab-97a3-10e2925a0c6e",
   "metadata": {},
   "source": [
    "#### 1. Zeros() -----------"
   ]
  },
  {
   "cell_type": "code",
   "execution_count": 42,
   "id": "47b9dc21-4f9f-49cb-97b0-eb92bdf314e6",
   "metadata": {},
   "outputs": [],
   "source": [
    "zeros=np.zeros((2,5))"
   ]
  },
  {
   "cell_type": "markdown",
   "id": "2c1005d1-1e8d-44c4-9034-38cc9ac29a5d",
   "metadata": {},
   "source": [
    "zeros"
   ]
  },
  {
   "cell_type": "code",
   "execution_count": 48,
   "id": "0177a99b-31c2-4bd3-9875-7bfc1a7c5b14",
   "metadata": {},
   "outputs": [
    {
     "data": {
      "text/plain": [
       "dtype('float64')"
      ]
     },
     "execution_count": 48,
     "metadata": {},
     "output_type": "execute_result"
    }
   ],
   "source": [
    "zeros.dtype"
   ]
  },
  {
   "cell_type": "code",
   "execution_count": 50,
   "id": "cc86275a-ba20-4135-a588-e86c1b38c099",
   "metadata": {},
   "outputs": [
    {
     "data": {
      "text/plain": [
       "(2, 5)"
      ]
     },
     "execution_count": 50,
     "metadata": {},
     "output_type": "execute_result"
    }
   ],
   "source": [
    "zeros.shape"
   ]
  },
  {
   "cell_type": "code",
   "execution_count": 52,
   "id": "b1d46095-4411-48f7-afb6-f2717536ebaf",
   "metadata": {},
   "outputs": [
    {
     "data": {
      "text/plain": [
       "10"
      ]
     },
     "execution_count": 52,
     "metadata": {},
     "output_type": "execute_result"
    }
   ],
   "source": [
    "zeros.size"
   ]
  },
  {
   "cell_type": "markdown",
   "id": "a0157a6a-b7bf-4d21-968e-12c070324342",
   "metadata": {},
   "source": [
    "#### 2.  arange() ----"
   ]
  },
  {
   "cell_type": "code",
   "execution_count": 58,
   "id": "8b09254d-8f78-4f77-9ae4-b6b260abc4df",
   "metadata": {},
   "outputs": [],
   "source": [
    "rng= np.arange(15)"
   ]
  },
  {
   "cell_type": "code",
   "execution_count": 60,
   "id": "8d788edd-003a-4b7d-bbbc-63b64b0a03bb",
   "metadata": {},
   "outputs": [
    {
     "data": {
      "text/plain": [
       "array([ 0,  1,  2,  3,  4,  5,  6,  7,  8,  9, 10, 11, 12, 13, 14])"
      ]
     },
     "execution_count": 60,
     "metadata": {},
     "output_type": "execute_result"
    }
   ],
   "source": [
    "rng"
   ]
  },
  {
   "cell_type": "code",
   "execution_count": 66,
   "id": "f4561878-82f8-4896-9f15-460f8f168f35",
   "metadata": {},
   "outputs": [
    {
     "data": {
      "text/plain": [
       "dtype('int32')"
      ]
     },
     "execution_count": 66,
     "metadata": {},
     "output_type": "execute_result"
    }
   ],
   "source": [
    "rng.dtype"
   ]
  },
  {
   "cell_type": "code",
   "execution_count": 68,
   "id": "06390bb8-3633-488a-9477-64e2f5c6b878",
   "metadata": {},
   "outputs": [
    {
     "data": {
      "text/plain": [
       "15"
      ]
     },
     "execution_count": 68,
     "metadata": {},
     "output_type": "execute_result"
    }
   ],
   "source": [
    "rng.size"
   ]
  },
  {
   "cell_type": "code",
   "execution_count": 70,
   "id": "cc93debc-855a-4615-9a61-14f92d0aafb2",
   "metadata": {},
   "outputs": [
    {
     "data": {
      "text/plain": [
       "(15,)"
      ]
     },
     "execution_count": 70,
     "metadata": {},
     "output_type": "execute_result"
    }
   ],
   "source": [
    "rng.shape"
   ]
  },
  {
   "cell_type": "markdown",
   "id": "7478572d-f992-47a0-b53e-850e7f13f330",
   "metadata": {},
   "source": [
    "#### 3.  linspace() ------"
   ]
  },
  {
   "cell_type": "code",
   "execution_count": 86,
   "id": "dd850da5-3ec2-430d-b8ba-fa446cf58153",
   "metadata": {},
   "outputs": [
    {
     "data": {
      "text/plain": [
       "array([ 1.  ,  3.25,  5.5 ,  7.75, 10.  ])"
      ]
     },
     "execution_count": 86,
     "metadata": {},
     "output_type": "execute_result"
    }
   ],
   "source": [
    "lin=np.linspace(1,10,5);  lin"
   ]
  },
  {
   "cell_type": "code",
   "execution_count": 88,
   "id": "7fe3fd75-9df6-4f89-bdc3-83c4bcdc366b",
   "metadata": {},
   "outputs": [
    {
     "data": {
      "text/plain": [
       "(5,)"
      ]
     },
     "execution_count": 88,
     "metadata": {},
     "output_type": "execute_result"
    }
   ],
   "source": [
    "lin.shape"
   ]
  },
  {
   "cell_type": "markdown",
   "id": "e490f7f2-5a02-4ac5-a17a-a2c2fc359a9f",
   "metadata": {},
   "source": [
    "#### 4.  empty()------"
   ]
  },
  {
   "cell_type": "code",
   "execution_count": 95,
   "id": "128785f5-9e83-4800-879c-052b92437691",
   "metadata": {},
   "outputs": [
    {
     "data": {
      "text/plain": [
       "array([[6.23042070e-307, 4.67296746e-307, 1.69121096e-306],\n",
       "       [4.45039557e-307, 1.89146896e-307, 7.56571288e-307]])"
      ]
     },
     "execution_count": 95,
     "metadata": {},
     "output_type": "execute_result"
    }
   ],
   "source": [
    "emp=np.empty((2,3));  emp"
   ]
  },
  {
   "cell_type": "markdown",
   "id": "a314f171-5460-4261-954e-0fe77cda4823",
   "metadata": {},
   "source": [
    "#### 5.   empty_like()---"
   ]
  },
  {
   "cell_type": "code",
   "execution_count": 102,
   "id": "bd7f0e5f-fb21-442c-b70d-e4be304e7363",
   "metadata": {},
   "outputs": [
    {
     "data": {
      "text/plain": [
       "array([ 1.  ,  3.25,  5.5 ,  7.75, 10.  ])"
      ]
     },
     "execution_count": 102,
     "metadata": {},
     "output_type": "execute_result"
    }
   ],
   "source": [
    "emp1=np.empty_like(lin);   emp1    # here it will take size of lin and print random num. in it"
   ]
  },
  {
   "cell_type": "code",
   "execution_count": 104,
   "id": "18524e10-c4df-41b6-b2e8-921724c0d283",
   "metadata": {},
   "outputs": [
    {
     "data": {
      "text/plain": [
       "(5,)"
      ]
     },
     "execution_count": 104,
     "metadata": {},
     "output_type": "execute_result"
    }
   ],
   "source": [
    "emp1.shape"
   ]
  },
  {
   "cell_type": "code",
   "execution_count": 108,
   "id": "fabedd30-76f7-4523-9a7e-3039845ac5e1",
   "metadata": {},
   "outputs": [
    {
     "data": {
      "text/plain": [
       "dtype('float64')"
      ]
     },
     "execution_count": 108,
     "metadata": {},
     "output_type": "execute_result"
    }
   ],
   "source": [
    "emp1.dtype"
   ]
  },
  {
   "cell_type": "markdown",
   "id": "a43f1855-a924-496f-b3ec-d2eed37a4c9e",
   "metadata": {},
   "source": [
    "#### 6.  identity() ------"
   ]
  },
  {
   "cell_type": "code",
   "execution_count": 115,
   "id": "62464799-0f53-497d-baa0-2da641db2571",
   "metadata": {},
   "outputs": [
    {
     "data": {
      "text/plain": [
       "array([[1., 0., 0., 0., 0.],\n",
       "       [0., 1., 0., 0., 0.],\n",
       "       [0., 0., 1., 0., 0.],\n",
       "       [0., 0., 0., 1., 0.],\n",
       "       [0., 0., 0., 0., 1.]])"
      ]
     },
     "execution_count": 115,
     "metadata": {},
     "output_type": "execute_result"
    }
   ],
   "source": [
    "iden=np.identity(5);  iden"
   ]
  },
  {
   "cell_type": "code",
   "execution_count": 117,
   "id": "bb3e6571-ee85-4102-8ef4-2f674689e16c",
   "metadata": {},
   "outputs": [
    {
     "data": {
      "text/plain": [
       "(5, 5)"
      ]
     },
     "execution_count": 117,
     "metadata": {},
     "output_type": "execute_result"
    }
   ],
   "source": [
    "iden.shape"
   ]
  },
  {
   "cell_type": "markdown",
   "id": "71cad294-cb51-4787-9130-00fb5c7ef8de",
   "metadata": {},
   "source": [
    "#### 7.  reshape() --------"
   ]
  },
  {
   "cell_type": "code",
   "execution_count": 189,
   "id": "789cbe40-84db-4c41-a29e-341ca04362d0",
   "metadata": {},
   "outputs": [
    {
     "data": {
      "text/plain": [
       "array([ 0,  1,  2,  3,  4,  5,  6,  7,  8,  9, 10, 11, 12, 13, 14, 15, 16,\n",
       "       17, 18, 19, 20, 21, 22, 23, 24, 25, 26, 27, 28, 29])"
      ]
     },
     "execution_count": 189,
     "metadata": {},
     "output_type": "execute_result"
    }
   ],
   "source": [
    "arr1=np.arange(30);  arr1"
   ]
  },
  {
   "cell_type": "code",
   "execution_count": 199,
   "id": "34c2b22d-5f8a-4da5-b976-86d5e1fbc3f7",
   "metadata": {},
   "outputs": [],
   "source": [
    "a=arr1.reshape(3,10)"
   ]
  },
  {
   "cell_type": "code",
   "execution_count": 201,
   "id": "7324a260-ed26-4de8-93e6-e80f585785f6",
   "metadata": {},
   "outputs": [
    {
     "data": {
      "text/plain": [
       "array([[ 0,  1,  2,  3,  4,  5,  6,  7,  8,  9],\n",
       "       [10, 11, 12, 13, 14, 15, 16, 17, 18, 19],\n",
       "       [20, 21, 22, 23, 24, 25, 26, 27, 28, 29]])"
      ]
     },
     "execution_count": 201,
     "metadata": {},
     "output_type": "execute_result"
    }
   ],
   "source": [
    "a"
   ]
  },
  {
   "cell_type": "code",
   "execution_count": 203,
   "id": "55166dd0-748b-4469-85e1-7e056a819bcf",
   "metadata": {},
   "outputs": [
    {
     "data": {
      "text/plain": [
       "(3, 10)"
      ]
     },
     "execution_count": 203,
     "metadata": {},
     "output_type": "execute_result"
    }
   ],
   "source": [
    "a.shape"
   ]
  },
  {
   "cell_type": "code",
   "execution_count": 213,
   "id": "5917d89a-600e-4942-9e49-acdd51706e19",
   "metadata": {},
   "outputs": [
    {
     "data": {
      "text/plain": [
       "array([ 0,  1,  2,  3,  4,  5,  6,  7,  8,  9, 10, 11, 12, 13, 14, 15, 16,\n",
       "       17, 18, 19, 20, 21, 22, 23, 24, 25, 26, 27, 28, 29])"
      ]
     },
     "execution_count": 213,
     "metadata": {},
     "output_type": "execute_result"
    }
   ],
   "source": [
    "b=a.ravel(); b"
   ]
  },
  {
   "cell_type": "code",
   "execution_count": 215,
   "id": "8febbad0-b637-4fe5-a9ee-d8a18bcab8e7",
   "metadata": {},
   "outputs": [
    {
     "data": {
      "text/plain": [
       "(30,)"
      ]
     },
     "execution_count": 215,
     "metadata": {},
     "output_type": "execute_result"
    }
   ],
   "source": [
    "b.shape"
   ]
  },
  {
   "cell_type": "markdown",
   "id": "059da470-40ff-44f5-9fe3-f798792f0601",
   "metadata": {},
   "source": [
    "### Axis in NumPy------\n",
    "* axis = 0  It is a Row that works in a downward direction\n",
    "\n",
    "* axis = 1  It is a column that works in an upward direction"
   ]
  },
  {
   "cell_type": "code",
   "execution_count": 222,
   "id": "5c8e2e61-fb2e-46a1-b7c0-a0e44f8f2056",
   "metadata": {},
   "outputs": [],
   "source": [
    "x=([1,2,3],[4,5,6],[7,6,8])"
   ]
  },
  {
   "cell_type": "code",
   "execution_count": 226,
   "id": "772be0b9-7823-47c8-aa89-eabbf940b41d",
   "metadata": {},
   "outputs": [
    {
     "data": {
      "text/plain": [
       "array([[1, 2, 3],\n",
       "       [4, 5, 6],\n",
       "       [7, 6, 8]])"
      ]
     },
     "execution_count": 226,
     "metadata": {},
     "output_type": "execute_result"
    }
   ],
   "source": [
    "array=np.array(x); array"
   ]
  },
  {
   "cell_type": "code",
   "execution_count": 234,
   "id": "d37b3114-8e8b-450d-94fd-85a59e168ff6",
   "metadata": {},
   "outputs": [
    {
     "data": {
      "text/plain": [
       "array([12, 13, 17])"
      ]
     },
     "execution_count": 234,
     "metadata": {},
     "output_type": "execute_result"
    }
   ],
   "source": [
    "sum=np.sum(array,axis=0); sum   # sum of 1+4+7 , 2+5+6 , 3+6+8  "
   ]
  },
  {
   "cell_type": "code",
   "execution_count": 238,
   "id": "786aafd3-5905-4e81-8f6b-26002e2a37ba",
   "metadata": {},
   "outputs": [
    {
     "data": {
      "text/plain": [
       "array([ 6, 15, 21])"
      ]
     },
     "execution_count": 238,
     "metadata": {},
     "output_type": "execute_result"
    }
   ],
   "source": [
    "sum=np.sum(array,axis=1); sum   # sum of 1+2+3 , 4+5+6 , 7+6+8"
   ]
  },
  {
   "cell_type": "markdown",
   "id": "3651d00a-a038-4164-9509-09f19391fa73",
   "metadata": {},
   "source": [
    "#### Transpose array ----------"
   ]
  },
  {
   "cell_type": "code",
   "execution_count": 243,
   "id": "cabe4a7b-6d94-4eef-a7a9-729e34c02315",
   "metadata": {},
   "outputs": [
    {
     "data": {
      "text/plain": [
       "array([[1, 2, 3],\n",
       "       [4, 5, 6],\n",
       "       [7, 6, 8]])"
      ]
     },
     "execution_count": 243,
     "metadata": {},
     "output_type": "execute_result"
    }
   ],
   "source": [
    "array"
   ]
  },
  {
   "cell_type": "code",
   "execution_count": 249,
   "id": "93d62b37-f19a-444d-98be-f4dfaa8f6449",
   "metadata": {},
   "outputs": [
    {
     "data": {
      "text/plain": [
       "array([[1, 4, 7],\n",
       "       [2, 5, 6],\n",
       "       [3, 6, 8]])"
      ]
     },
     "execution_count": 249,
     "metadata": {},
     "output_type": "execute_result"
    }
   ],
   "source": [
    "array.T         # Transpose array  row <-> column"
   ]
  },
  {
   "cell_type": "markdown",
   "id": "a6144a7f-4d7c-46bc-91ba-d1ab37ce4389",
   "metadata": {},
   "source": [
    "#### Flat method ---------"
   ]
  },
  {
   "cell_type": "code",
   "execution_count": 251,
   "id": "f54406f9-8bb9-4b16-a5fc-c7c72884baf3",
   "metadata": {},
   "outputs": [
    {
     "data": {
      "text/plain": [
       "<numpy.flatiter at 0x1f4d319bfb0>"
      ]
     },
     "execution_count": 251,
     "metadata": {},
     "output_type": "execute_result"
    }
   ],
   "source": [
    "array.flat"
   ]
  },
  {
   "cell_type": "code",
   "execution_count": 255,
   "id": "74cedbbe-ecda-4be4-b2a2-114d98589233",
   "metadata": {},
   "outputs": [
    {
     "name": "stdout",
     "output_type": "stream",
     "text": [
      "1\n",
      "2\n",
      "3\n",
      "4\n",
      "5\n",
      "6\n",
      "7\n",
      "6\n",
      "8\n"
     ]
    }
   ],
   "source": [
    "for item in array.flat:          # this method will return all value in single column\n",
    "    print(item)"
   ]
  },
  {
   "cell_type": "markdown",
   "id": "897842cc-5a5d-4873-9dc3-a00a84817a90",
   "metadata": {},
   "source": [
    "#### ndim() ----------- it will return the number of dimention array( 1D, 2D, 3D etc.)"
   ]
  },
  {
   "cell_type": "code",
   "execution_count": 266,
   "id": "6465e4f8-dc7f-4ec2-b969-0ada968cb500",
   "metadata": {},
   "outputs": [
    {
     "data": {
      "text/plain": [
       "2"
      ]
     },
     "execution_count": 266,
     "metadata": {},
     "output_type": "execute_result"
    }
   ],
   "source": [
    "array.ndim"
   ]
  },
  {
   "cell_type": "code",
   "execution_count": 270,
   "id": "29958f13-6a88-4033-85ac-e3f6fed57040",
   "metadata": {},
   "outputs": [
    {
     "data": {
      "text/plain": [
       "9"
      ]
     },
     "execution_count": 270,
     "metadata": {},
     "output_type": "execute_result"
    }
   ],
   "source": [
    "array.size"
   ]
  },
  {
   "cell_type": "code",
   "execution_count": 276,
   "id": "ae81c986-efe8-4a64-b3b6-d67895c3956e",
   "metadata": {},
   "outputs": [
    {
     "data": {
      "text/plain": [
       "36"
      ]
     },
     "execution_count": 276,
     "metadata": {},
     "output_type": "execute_result"
    }
   ],
   "source": [
    "array.nbytes     # total menory accupy in bytes"
   ]
  },
  {
   "cell_type": "markdown",
   "id": "62450dd6-6e7e-454e-9d64-577fa2d693a9",
   "metadata": {},
   "source": [
    "#### argmax(), argmin() and argsort() function----------"
   ]
  },
  {
   "cell_type": "code",
   "execution_count": 20,
   "id": "93c1cae2-4757-40a8-bd7d-71fe0cb2dd8b",
   "metadata": {},
   "outputs": [
    {
     "data": {
      "text/plain": [
       "array([ 2,  5, 77, 44,  3,  9])"
      ]
     },
     "execution_count": 20,
     "metadata": {},
     "output_type": "execute_result"
    }
   ],
   "source": [
    "a=np.array([2,5,77,44,3,9]); a"
   ]
  },
  {
   "cell_type": "code",
   "execution_count": 6,
   "id": "3c481db4-7f0b-49c2-864d-b8c3ba8821f6",
   "metadata": {},
   "outputs": [
    {
     "data": {
      "text/plain": [
       "2"
      ]
     },
     "execution_count": 6,
     "metadata": {},
     "output_type": "execute_result"
    }
   ],
   "source": [
    "a.argmax()"
   ]
  },
  {
   "cell_type": "code",
   "execution_count": 8,
   "id": "2b56311a-13a9-4937-beda-42875a2949e3",
   "metadata": {},
   "outputs": [
    {
     "data": {
      "text/plain": [
       "0"
      ]
     },
     "execution_count": 8,
     "metadata": {},
     "output_type": "execute_result"
    }
   ],
   "source": [
    "a.argmin()"
   ]
  },
  {
   "cell_type": "code",
   "execution_count": 10,
   "id": "068ed834-56ea-4833-b420-25c86be86bda",
   "metadata": {},
   "outputs": [
    {
     "data": {
      "text/plain": [
       "array([0, 4, 1, 5, 3, 2], dtype=int64)"
      ]
     },
     "execution_count": 10,
     "metadata": {},
     "output_type": "execute_result"
    }
   ],
   "source": [
    "a.argsort()"
   ]
  },
  {
   "cell_type": "code",
   "execution_count": 5,
   "id": "e9e6ef1f-8be5-48ae-a706-4d36d31a2541",
   "metadata": {},
   "outputs": [],
   "source": [
    "a1=np.array([[3,656,46],[6,9,55],[2,67,34]])"
   ]
  },
  {
   "cell_type": "code",
   "execution_count": 7,
   "id": "dbb50c71-7416-44f0-ab28-99c97b23bea7",
   "metadata": {},
   "outputs": [
    {
     "data": {
      "text/plain": [
       "array([[  3, 656,  46],\n",
       "       [  6,   9,  55],\n",
       "       [  2,  67,  34]])"
      ]
     },
     "execution_count": 7,
     "metadata": {},
     "output_type": "execute_result"
    }
   ],
   "source": [
    "a1"
   ]
  },
  {
   "cell_type": "code",
   "execution_count": 56,
   "id": "9418ba51-6e47-4c56-9485-9401f95c2c9a",
   "metadata": {},
   "outputs": [
    {
     "data": {
      "text/plain": [
       "1"
      ]
     },
     "execution_count": 56,
     "metadata": {},
     "output_type": "execute_result"
    }
   ],
   "source": [
    "a1.argmax()"
   ]
  },
  {
   "cell_type": "code",
   "execution_count": 58,
   "id": "082fb7a8-e0ba-472e-b9b8-98763f0faeec",
   "metadata": {},
   "outputs": [
    {
     "data": {
      "text/plain": [
       "6"
      ]
     },
     "execution_count": 58,
     "metadata": {},
     "output_type": "execute_result"
    }
   ],
   "source": [
    "a1.argmin()"
   ]
  },
  {
   "cell_type": "code",
   "execution_count": 60,
   "id": "640a1334-58dc-42e4-a0d1-c23715817061",
   "metadata": {},
   "outputs": [
    {
     "data": {
      "text/plain": [
       "array([[0, 2, 1],\n",
       "       [0, 1, 2],\n",
       "       [0, 2, 1]], dtype=int64)"
      ]
     },
     "execution_count": 60,
     "metadata": {},
     "output_type": "execute_result"
    }
   ],
   "source": [
    "a1.argsort()"
   ]
  },
  {
   "cell_type": "code",
   "execution_count": 62,
   "id": "7e07bb6d-71e9-4e08-8a98-927ab96d27d4",
   "metadata": {},
   "outputs": [
    {
     "data": {
      "text/plain": [
       "array([1, 0, 1], dtype=int64)"
      ]
     },
     "execution_count": 62,
     "metadata": {},
     "output_type": "execute_result"
    }
   ],
   "source": [
    "a1.argmax(axis=0)"
   ]
  },
  {
   "cell_type": "code",
   "execution_count": 64,
   "id": "1ecf95ea-3f01-4eca-9e68-09e131c109fa",
   "metadata": {},
   "outputs": [
    {
     "data": {
      "text/plain": [
       "array([0, 0, 0], dtype=int64)"
      ]
     },
     "execution_count": 64,
     "metadata": {},
     "output_type": "execute_result"
    }
   ],
   "source": [
    "a1.argmin(axis=1)"
   ]
  },
  {
   "cell_type": "code",
   "execution_count": null,
   "id": "8f6a32c5-7347-4b13-93fc-06c38f709dd4",
   "metadata": {},
   "outputs": [],
   "source": [
    "a1.argsort(axis=1)\n",
    "\n",
    "a1"
   ]
  },
  {
   "cell_type": "code",
   "execution_count": 9,
   "id": "9ee76251-c69d-487b-b030-fe240c71c8d4",
   "metadata": {},
   "outputs": [
    {
     "data": {
      "text/plain": [
       "array([  3, 656,  46,   6,   9,  55,   2,  67,  34])"
      ]
     },
     "execution_count": 9,
     "metadata": {},
     "output_type": "execute_result"
    }
   ],
   "source": [
    "a1.ravel()"
   ]
  },
  {
   "cell_type": "code",
   "execution_count": 11,
   "id": "84ec357d-bdeb-4caa-beaa-20845b938165",
   "metadata": {},
   "outputs": [
    {
     "data": {
      "text/plain": [
       "9"
      ]
     },
     "execution_count": 11,
     "metadata": {},
     "output_type": "execute_result"
    }
   ],
   "source": [
    "a1.size"
   ]
  },
  {
   "cell_type": "code",
   "execution_count": 27,
   "id": "432e6b82-ea51-4a16-abb4-6f9a017ebab9",
   "metadata": {},
   "outputs": [
    {
     "data": {
      "text/plain": [
       "array([[  3],\n",
       "       [656],\n",
       "       [ 46],\n",
       "       [  6],\n",
       "       [  9],\n",
       "       [ 55],\n",
       "       [  2],\n",
       "       [ 67],\n",
       "       [ 34]])"
      ]
     },
     "execution_count": 27,
     "metadata": {},
     "output_type": "execute_result"
    }
   ],
   "source": [
    "a1.reshape(9,1)"
   ]
  },
  {
   "cell_type": "markdown",
   "id": "e9f100c9-3fff-46b0-8007-7cd2c56f2830",
   "metadata": {},
   "source": [
    "#### NumPy Operation ----- * Arithematic Operation"
   ]
  },
  {
   "cell_type": "code",
   "execution_count": 41,
   "id": "3a6c25ad-a193-4ee7-9dbf-ce03b629b237",
   "metadata": {},
   "outputs": [
    {
     "data": {
      "text/plain": [
       "array([[2, 4, 1],\n",
       "       [4, 2, 6],\n",
       "       [1, 2, 3]])"
      ]
     },
     "execution_count": 41,
     "metadata": {},
     "output_type": "execute_result"
    }
   ],
   "source": [
    "a=np.array([[2,4,1],[4,2,6],[1,2,3]]); a"
   ]
  },
  {
   "cell_type": "code",
   "execution_count": 43,
   "id": "e8590e9f-47ef-48b1-9128-ba239ea5a945",
   "metadata": {},
   "outputs": [
    {
     "data": {
      "text/plain": [
       "array([[1, 2, 3],\n",
       "       [0, 9, 8],\n",
       "       [7, 8, 0]])"
      ]
     },
     "execution_count": 43,
     "metadata": {},
     "output_type": "execute_result"
    }
   ],
   "source": [
    "b=np.array([[1,2,3],[0,9,8],[7,8,0]]); b"
   ]
  },
  {
   "cell_type": "code",
   "execution_count": 45,
   "id": "7d9213c4-618f-44c8-9d0f-bf55125eb482",
   "metadata": {},
   "outputs": [
    {
     "data": {
      "text/plain": [
       "array([[ 3,  6,  4],\n",
       "       [ 4, 11, 14],\n",
       "       [ 8, 10,  3]])"
      ]
     },
     "execution_count": 45,
     "metadata": {},
     "output_type": "execute_result"
    }
   ],
   "source": [
    "a+b"
   ]
  },
  {
   "cell_type": "code",
   "execution_count": 47,
   "id": "8d01ad64-646e-4970-8784-b135f4b53c38",
   "metadata": {},
   "outputs": [
    {
     "data": {
      "text/plain": [
       "array([[ 1,  2, -2],\n",
       "       [ 4, -7, -2],\n",
       "       [-6, -6,  3]])"
      ]
     },
     "execution_count": 47,
     "metadata": {},
     "output_type": "execute_result"
    }
   ],
   "source": [
    "a-b"
   ]
  },
  {
   "cell_type": "code",
   "execution_count": 49,
   "id": "11713fd0-6d60-4719-a9ef-542ba4dd00cd",
   "metadata": {},
   "outputs": [
    {
     "data": {
      "text/plain": [
       "array([[ 2,  8,  3],\n",
       "       [ 0, 18, 48],\n",
       "       [ 7, 16,  0]])"
      ]
     },
     "execution_count": 49,
     "metadata": {},
     "output_type": "execute_result"
    }
   ],
   "source": [
    "a*b"
   ]
  },
  {
   "cell_type": "code",
   "execution_count": 53,
   "id": "2f58d61c-b717-4d46-bd84-59daa1f64ef8",
   "metadata": {},
   "outputs": [
    {
     "name": "stderr",
     "output_type": "stream",
     "text": [
      "C:\\Users\\NITIN\\AppData\\Local\\Temp\\ipykernel_5748\\812980504.py:1: RuntimeWarning: divide by zero encountered in divide\n",
      "  a/b      # Warning on division by zero, but not an error!\n"
     ]
    },
    {
     "data": {
      "text/plain": [
       "array([[2.        , 2.        , 0.33333333],\n",
       "       [       inf, 0.22222222, 0.75      ],\n",
       "       [0.14285714, 0.25      ,        inf]])"
      ]
     },
     "execution_count": 53,
     "metadata": {},
     "output_type": "execute_result"
    }
   ],
   "source": [
    "a/b      # Warning on division by zero, but not an error!"
   ]
  },
  {
   "cell_type": "code",
   "execution_count": 55,
   "id": "cc0282c6-c256-4615-93c2-4dce5a14f90d",
   "metadata": {},
   "outputs": [
    {
     "data": {
      "text/plain": [
       "array([[ 4, 16,  1],\n",
       "       [16,  4, 36],\n",
       "       [ 1,  4,  9]])"
      ]
     },
     "execution_count": 55,
     "metadata": {},
     "output_type": "execute_result"
    }
   ],
   "source": [
    "a**2"
   ]
  },
  {
   "cell_type": "code",
   "execution_count": 57,
   "id": "c1370909-aa04-4fe3-b0eb-34d40a7534ee",
   "metadata": {},
   "outputs": [
    {
     "data": {
      "text/plain": [
       "array([[1.41421356, 2.        , 1.        ],\n",
       "       [2.        , 1.41421356, 2.44948974],\n",
       "       [1.        , 1.41421356, 1.73205081]])"
      ]
     },
     "execution_count": 57,
     "metadata": {},
     "output_type": "execute_result"
    }
   ],
   "source": [
    "np.sqrt(a)"
   ]
  },
  {
   "cell_type": "code",
   "execution_count": 59,
   "id": "934e41d0-62ea-4606-ae0f-5d8963faa863",
   "metadata": {},
   "outputs": [
    {
     "data": {
      "text/plain": [
       "array([[1.        , 1.41421356, 1.73205081],\n",
       "       [0.        , 3.        , 2.82842712],\n",
       "       [2.64575131, 2.82842712, 0.        ]])"
      ]
     },
     "execution_count": 59,
     "metadata": {},
     "output_type": "execute_result"
    }
   ],
   "source": [
    "np.sqrt(b)"
   ]
  },
  {
   "cell_type": "code",
   "execution_count": 63,
   "id": "c07c3f36-03e5-4f07-8f44-56d305cd1d66",
   "metadata": {},
   "outputs": [
    {
     "data": {
      "text/plain": [
       "25"
      ]
     },
     "execution_count": 63,
     "metadata": {},
     "output_type": "execute_result"
    }
   ],
   "source": [
    "a.sum()"
   ]
  },
  {
   "cell_type": "code",
   "execution_count": 67,
   "id": "9865df15-24b5-4896-acbc-17a8d243fae3",
   "metadata": {},
   "outputs": [
    {
     "data": {
      "text/plain": [
       "6"
      ]
     },
     "execution_count": 67,
     "metadata": {},
     "output_type": "execute_result"
    }
   ],
   "source": [
    "a.max()"
   ]
  },
  {
   "cell_type": "code",
   "execution_count": 69,
   "id": "9c290ecd-8abe-4ff0-ac1c-59eb523baaed",
   "metadata": {},
   "outputs": [
    {
     "data": {
      "text/plain": [
       "0"
      ]
     },
     "execution_count": 69,
     "metadata": {},
     "output_type": "execute_result"
    }
   ],
   "source": [
    "b.min()"
   ]
  },
  {
   "cell_type": "markdown",
   "id": "ee10e175-da54-4f71-b091-9ae7bb3d205a",
   "metadata": {},
   "source": [
    "#### Finding element in array --------------------"
   ]
  },
  {
   "cell_type": "code",
   "execution_count": 89,
   "id": "18085879-a78a-4dd6-8932-491d2a73dca8",
   "metadata": {},
   "outputs": [
    {
     "data": {
      "text/plain": [
       "array([[1, 2, 3],\n",
       "       [4, 5, 6],\n",
       "       [7, 1, 0]])"
      ]
     },
     "execution_count": 89,
     "metadata": {},
     "output_type": "execute_result"
    }
   ],
   "source": [
    "a=np.array([[1,2,3],[4,5,6],[7,1,0]]); a"
   ]
  },
  {
   "cell_type": "code",
   "execution_count": 95,
   "id": "ed3a7c10-2876-492b-9273-41e6bf1144bf",
   "metadata": {},
   "outputs": [
    {
     "data": {
      "text/plain": [
       "(array([1, 1, 2], dtype=int64), array([1, 2, 0], dtype=int64))"
      ]
     },
     "execution_count": 95,
     "metadata": {},
     "output_type": "execute_result"
    }
   ],
   "source": [
    "np.where(a>4)"
   ]
  },
  {
   "cell_type": "code",
   "execution_count": 101,
   "id": "2f1d9321-11e9-44d9-bbe3-6fe73c1bfeff",
   "metadata": {},
   "outputs": [
    {
     "name": "stdout",
     "output_type": "stream",
     "text": [
      "[5 6 7]\n"
     ]
    }
   ],
   "source": [
    "print(a[a>4])"
   ]
  },
  {
   "cell_type": "code",
   "execution_count": 105,
   "id": "72531093-b7f2-4c3b-b327-6d2ee9d73d79",
   "metadata": {},
   "outputs": [
    {
     "data": {
      "text/plain": [
       "tuple"
      ]
     },
     "execution_count": 105,
     "metadata": {},
     "output_type": "execute_result"
    }
   ],
   "source": [
    "type(np.where(a>4))"
   ]
  },
  {
   "cell_type": "code",
   "execution_count": 107,
   "id": "dd9e30b8-8876-4921-9194-7e2ffcfacaae",
   "metadata": {},
   "outputs": [
    {
     "data": {
      "text/plain": [
       "8"
      ]
     },
     "execution_count": 107,
     "metadata": {},
     "output_type": "execute_result"
    }
   ],
   "source": [
    "np.count_nonzero(a)"
   ]
  },
  {
   "cell_type": "code",
   "execution_count": 113,
   "id": "8c8fe206-176d-409a-9ab0-f0d7dc203307",
   "metadata": {},
   "outputs": [
    {
     "data": {
      "text/plain": [
       "1"
      ]
     },
     "execution_count": 113,
     "metadata": {},
     "output_type": "execute_result"
    }
   ],
   "source": [
    "np.count_nonzero(a==0)"
   ]
  }
 ],
 "metadata": {
  "kernelspec": {
   "display_name": "Python [conda env:base] *",
   "language": "python",
   "name": "conda-base-py"
  },
  "language_info": {
   "codemirror_mode": {
    "name": "ipython",
    "version": 3
   },
   "file_extension": ".py",
   "mimetype": "text/x-python",
   "name": "python",
   "nbconvert_exporter": "python",
   "pygments_lexer": "ipython3",
   "version": "3.12.7"
  }
 },
 "nbformat": 4,
 "nbformat_minor": 5
}
